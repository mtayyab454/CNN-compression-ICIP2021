{
  "nbformat": 4,
  "nbformat_minor": 0,
  "metadata": {
    "colab": {
      "provenance": [],
      "authorship_tag": "ABX9TyNb/MOMEw6Q7G8qdZh6uuRm",
      "include_colab_link": true
    },
    "kernelspec": {
      "name": "python3",
      "display_name": "Python 3"
    },
    "language_info": {
      "name": "python"
    }
  },
  "cells": [
    {
      "cell_type": "markdown",
      "metadata": {
        "id": "view-in-github",
        "colab_type": "text"
      },
      "source": [
        "<a href=\"https://colab.research.google.com/github/mtayyab454/CNN-compression-ICIP2021/blob/master/Untitled1.ipynb\" target=\"_parent\"><img src=\"https://colab.research.google.com/assets/colab-badge.svg\" alt=\"Open In Colab\"/></a>"
      ]
    },
    {
      "cell_type": "code",
      "execution_count": null,
      "metadata": {
        "id": "APso1PvsW2m-"
      },
      "outputs": [],
      "source": [
        "# Coding exercies"
      ]
    },
    {
      "cell_type": "code",
      "source": [
        "class Solution:\n",
        "  def search(self, arr, target_sum):\n",
        "    # TODO: Write your code here\n",
        "    return [-1, -1]\n",
        "\n"
      ],
      "metadata": {
        "id": "Lcwg7CAEW9de"
      },
      "execution_count": null,
      "outputs": []
    }
  ]
}